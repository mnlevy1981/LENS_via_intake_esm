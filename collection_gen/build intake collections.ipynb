{
 "cells": [
  {
   "cell_type": "markdown",
   "metadata": {},
   "source": [
    "## Script to Create New `intake-esm` Collections (csv.gz) from Old Collections (nc)\n",
    "\n",
    "This notebook assumes a netcdf collection  already exists.\n",
    "If needed, create nc collection files in `~/.intake_esm/collections` from the YAML files in `intake-esm-collection-defs`.\n",
    "Note that I needed to update that old version of `intake-esm` to make `cesm1-le.nc`.\n",
    "I did this in a slightly modified conda environment based on my `intake-esm` sandbox:\n",
    "\n",
    "```\n",
    "$ conda activate /glade/work/mlevy/miniconda3/envs/legacy_intake/\n",
    "(legacy_intake) $ intake-esm-builder -cdef cesm1-le-collection.yaml\n",
    "```\n",
    "\n",
    "I believe that the above conda environment just needs `intake-esm` v2019.8.23;\n",
    "work is in progress to be able to point `intake-esm-builder` to a directory and have it generate the `csv.gz` collection."
   ]
  },
  {
   "cell_type": "code",
   "execution_count": 1,
   "metadata": {},
   "outputs": [],
   "source": [
    "import xarray as xr\n",
    "import numpy as np\n",
    "\n",
    "def prune_bad_collection_data(df):\n",
    "    df = df.copy()\n",
    "    bad_data = np.zeros(len(df), dtype=bool)\n",
    "    bad_data = (bad_data \n",
    "                | df.date_range.isin(['185002-190001', '190002-195001', '195002-200001', '200002-201412']) \n",
    "                | df.path.str.contains('\\.back/|\\.back2/|\\.backup\\.04012019/'))\n",
    "    print(f\"Removing {sum(bad_data)} entries\")\n",
    "    return df[~bad_data]\n",
    "\n",
    "def netcdf_to_df(file_in):\n",
    "    \"\"\"\n",
    "       file_in: netcdf file generated from intake-esm-builder\n",
    "    \"\"\"\n",
    "    df = xr.open_dataset(file_in).to_dataframe()\n",
    "    df = df.drop(columns=['resource', 'resource_type', 'direct_access', 'file_basename', 'year_offset', 'sequence_order', 'grid'])\n",
    "    df = df.rename(columns = {'file_fullpath' : 'path'})\n",
    "    return(df)"
   ]
  },
  {
   "cell_type": "markdown",
   "metadata": {},
   "source": [
    "### Generate the collection dataframe\n",
    "\n",
    "There are two different `CESM2-CMIP6.nc` files.\n",
    "The one in `~mclong/` points to data in `/glade/collections/cdg/timeseries-cmip6`; those runs are being moved to `/glade/campaign/collections/cmip/CMIP6/timeseries-cmip6`.\n",
    "\n",
    "There is also a collection for `CESM1-CMIP5.nc`, which assumes data has been copied from HPSS to `/glade/p/cgd/oce/projects/cesm2-marbl/intake-esm-data`.\n",
    "The `get_ocn_cmip5_files.sh` script can be used to add more data to those directories."
   ]
  },
  {
   "cell_type": "code",
   "execution_count": 2,
   "metadata": {},
   "outputs": [
    {
     "name": "stdout",
     "output_type": "stream",
     "text": [
      "Dataframe for CESM1-LENS (generated from /glade/collections/cdg/data/cesmLE/CESM-CAM5-BGC-LE)\n",
      "----\n",
      "       experiment                              case component  stream  \\\n",
      "index                                                                   \n",
      "0            CTRL       b.e11.B1850C5CN.f09_g16.005       atm  cam.h1   \n",
      "1            CTRL       b.e11.B1850C5CN.f09_g16.005       atm  cam.h1   \n",
      "2            CTRL       b.e11.B1850C5CN.f09_g16.005       atm  cam.h1   \n",
      "3            CTRL       b.e11.B1850C5CN.f09_g16.005       atm  cam.h1   \n",
      "4            CTRL       b.e11.B1850C5CN.f09_g16.005       atm  cam.h1   \n",
      "...           ...                               ...       ...     ...   \n",
      "161259      RCP45  b.e11.BRCP45C5CNBDRD.f09_g16.011       rof  rtm.h0   \n",
      "161260      RCP45  b.e11.BRCP45C5CNBDRD.f09_g16.012       rof  rtm.h0   \n",
      "161261      RCP45  b.e11.BRCP45C5CNBDRD.f09_g16.013       rof  rtm.h0   \n",
      "161262      RCP45  b.e11.BRCP45C5CNBDRD.f09_g16.014       rof  rtm.h0   \n",
      "161263      RCP45  b.e11.BRCP45C5CNBDRD.f09_g16.015       rof  rtm.h0   \n",
      "\n",
      "       variable         date_range  member_id  \\\n",
      "index                                           \n",
      "0       PRECTMX  04020101-04991231          1   \n",
      "1       PRECTMX  05000101-05991231          1   \n",
      "2       PRECTMX  06000101-06991231          1   \n",
      "3       PRECTMX  07000101-07991231          1   \n",
      "4       PRECTMX  08000101-08991231          1   \n",
      "...         ...                ...        ...   \n",
      "161259     VOLR      200601-208012         11   \n",
      "161260     VOLR      200601-208012         12   \n",
      "161261     VOLR      200601-208012         13   \n",
      "161262     VOLR      200601-208012         14   \n",
      "161263     VOLR      200601-208012         15   \n",
      "\n",
      "                                                     path  ctrl_branch_year  \\\n",
      "index                                                                         \n",
      "0       /glade/collections/cdg/data/cesmLE/CESM-CAM5-B...              1448   \n",
      "1       /glade/collections/cdg/data/cesmLE/CESM-CAM5-B...              1448   \n",
      "2       /glade/collections/cdg/data/cesmLE/CESM-CAM5-B...              1448   \n",
      "3       /glade/collections/cdg/data/cesmLE/CESM-CAM5-B...              1448   \n",
      "4       /glade/collections/cdg/data/cesmLE/CESM-CAM5-B...              1448   \n",
      "...                                                   ...               ...   \n",
      "161259  /glade/collections/cdg/data/cesmME/CESM-CAM5-B...              2006   \n",
      "161260  /glade/collections/cdg/data/cesmME/CESM-CAM5-B...              2006   \n",
      "161261  /glade/collections/cdg/data/cesmME/CESM-CAM5-B...              2006   \n",
      "161262  /glade/collections/cdg/data/cesmME/CESM-CAM5-B...              2006   \n",
      "161263  /glade/collections/cdg/data/cesmME/CESM-CAM5-B...              2006   \n",
      "\n",
      "              ctrl_experiment  ctrl_member_id  \n",
      "index                                          \n",
      "0       No control experiment     -2147483647  \n",
      "1       No control experiment     -2147483647  \n",
      "2       No control experiment     -2147483647  \n",
      "3       No control experiment     -2147483647  \n",
      "4       No control experiment     -2147483647  \n",
      "...                       ...             ...  \n",
      "161259                    20C              11  \n",
      "161260                    20C              12  \n",
      "161261                    20C              13  \n",
      "161262                    20C              14  \n",
      "161263                    20C              15  \n",
      "\n",
      "[161264 rows x 11 columns]\n"
     ]
    }
   ],
   "source": [
    "CESM1_LENS = netcdf_to_df('/glade/u/home/mlevy/.intake_esm/collections/CESM1-LE.nc')\n",
    "print(\"Dataframe for CESM1-LENS (generated from /glade/collections/cdg/data/cesmLE/CESM-CAM5-BGC-LE)\\n----\\n{}\".format(CESM1_LENS))"
   ]
  },
  {
   "cell_type": "markdown",
   "metadata": {},
   "source": [
    "### Write`JSON` and `csv` Files Defining Collection\n",
    "\n",
    "`intake-esm` wants the dataframe written as a `csv` file (it is okay to compress with `gzip`).\n",
    "Additionally, there is a JSON file that points to the `.csv.gz` file and also defines the different columns."
   ]
  },
  {
   "cell_type": "code",
   "execution_count": 3,
   "metadata": {},
   "outputs": [],
   "source": [
    "# df.to_csv('/glade/work/mlevy/intake-esm-collection/CESM1-CMIP5_only-NOT_CMORIZED.csv.gz', compression='gzip', index=False)\n",
    "import os\n",
    "import json\n",
    "\n",
    "def write_collection(df, root_dir, collection_name, desc):\n",
    "    \"\"\"\n",
    "       Write df as a csv file (file name is collection_name+'.csv.gz'; written to root_dir+'/csv.gz/')\n",
    "       Write json file describing collection (file name is collection_name+'.json'; written to root_dir+'/json/')\n",
    "    \"\"\"\n",
    "\n",
    "    # Make sure output directories exist\n",
    "    dir_not_found = False\n",
    "    csv_dir = os.path.join(root_dir, 'csv.gz')\n",
    "    json_dir = os.path.join(root_dir, 'json')\n",
    "    if not os.path.isdir(csv_dir):\n",
    "        dir_not_found = True\n",
    "        print('Can not find directory {}'.format(csv_dir))\n",
    "    if not os.path.isdir(json_dir):\n",
    "        dir_not_found = True\n",
    "        print('Can not find directory {}'.format(json_dir))\n",
    "    if dir_not_found:\n",
    "        raise ValueError('Can not find needed subdirectories in {}'.format(root_dir))\n",
    "\n",
    "    # Write csv file\n",
    "    csv_file = os.path.join(csv_dir, collection_name+'.csv.gz')\n",
    "    df.to_csv(csv_file, compression='gzip', index=False)\n",
    "\n",
    "    # Write json_file\n",
    "    json_file = os.path.join(json_dir, collection_name+'.json')\n",
    "    collection = dict()\n",
    "    collection[\"esmcat_version\"] = \"0.1.0\"\n",
    "    collection[\"id\"] = collection_name\n",
    "    collection[\"description\"] = desc\n",
    "    collection[\"catalog_file\"] = csv_file\n",
    "    collection[\"attributes\"] = []\n",
    "    for col in df.columns:\n",
    "        collection[\"attributes\"].append({\"column_name\" : col, \"vocabulary\" : \"\"})\n",
    "    collection[\"assets\"] = {\"column_name\" : \"path\", \"format\" : \"netcdf\"}\n",
    "    collection[\"aggregation_control\"] = dict()\n",
    "    collection[\"aggregation_control\"][\"variable_column_name\"] = \"variable\"\n",
    "    collection[\"aggregation_control\"][\"groupby_attrs\"] = [\"component\", \"experiment\", \"stream\"]\n",
    "    collection[\"aggregation_control\"][\"aggregations\"] = []\n",
    "    collection[\"aggregation_control\"][\"aggregations\"].append({\"type\" : \"union\", \"attribute_name\" : \"variable\"})\n",
    "    collection[\"aggregation_control\"][\"aggregations\"].append({\"type\" : \"join_existing\", \"attribute_name\" : \"date_range\", \"options\" : {\"dim\" : \"time\", \"coords\" : \"minimal\", \"compat\": \"override\"}})\n",
    "    collection[\"aggregation_control\"][\"aggregations\"].append({\"type\" : \"join_new\", \"attribute_name\" : \"member_id\", \"options\" : {\"coords\" : \"minimal\", \"compat\": \"override\"}})\n",
    "    \n",
    "    with open(json_file, \"w\") as f:\n",
    "        f.write(json.dumps(collection, indent=2))"
   ]
  },
  {
   "cell_type": "code",
   "execution_count": 4,
   "metadata": {},
   "outputs": [],
   "source": [
    "write_collection(CESM1_LENS, '/glade/work/mlevy/intake-esm-collection', 'glade-cesm1-le',\n",
    "                 desc=\"ESM collection for the CESM1 LENS data stored on GLADE in /glade/collections/cdg/data/cesmLE/CESM-CAM5-BGC-LE\")"
   ]
  }
 ],
 "metadata": {
  "kernelspec": {
   "display_name": "Python [conda env:cesm2-marbl]",
   "language": "python",
   "name": "conda-env-cesm2-marbl-py"
  },
  "language_info": {
   "codemirror_mode": {
    "name": "ipython",
    "version": 3
   },
   "file_extension": ".py",
   "mimetype": "text/x-python",
   "name": "python",
   "nbconvert_exporter": "python",
   "pygments_lexer": "ipython3",
   "version": "3.7.3"
  }
 },
 "nbformat": 4,
 "nbformat_minor": 4
}
